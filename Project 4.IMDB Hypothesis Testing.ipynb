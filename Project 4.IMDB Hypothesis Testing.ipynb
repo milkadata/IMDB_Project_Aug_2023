{
 "cells": [
  {
   "cell_type": "markdown",
   "id": "84656aeb",
   "metadata": {},
   "source": [
    "# Part 4: Apply hypothesis testing to explore what makes a movie successful."
   ]
  },
  {
   "cell_type": "markdown",
   "id": "5da481f5",
   "metadata": {},
   "source": [
    "For part 4 of the project, you will be using your MySQL database from part 3 to answer meaningful questions for your stakeholder. They want you to use your hypothesis testing and statistics knowledge to answer 3 questions about what makes a successful movie"
   ]
  },
  {
   "cell_type": "markdown",
   "id": "bfd15f4c",
   "metadata": {},
   "source": [
    "## Import & Combine data"
   ]
  },
  {
   "cell_type": "code",
   "execution_count": 82,
   "id": "a1810bc5",
   "metadata": {},
   "outputs": [],
   "source": [
    "import pandas as pd"
   ]
  },
  {
   "cell_type": "code",
   "execution_count": 83,
   "id": "bcea2720",
   "metadata": {},
   "outputs": [],
   "source": [
    "# Load the CSV files\n",
    "\n",
    "df_2000 = pd.read_csv(\"Data/final_tmdb_data_2000.csv.gz\", compression=\"gzip\")\n",
    "df_2001 = pd.read_csv(\"Data/final_tmdb_data_2001.csv.gz\", compression=\"gzip\")\n",
    "pd.set_option(\"display.max_columns\", None)"
   ]
  },
  {
   "cell_type": "code",
   "execution_count": 95,
   "id": "77986481",
   "metadata": {
    "scrolled": true
   },
   "outputs": [
    {
     "data": {
      "text/html": [
       "<div>\n",
       "<style scoped>\n",
       "    .dataframe tbody tr th:only-of-type {\n",
       "        vertical-align: middle;\n",
       "    }\n",
       "\n",
       "    .dataframe tbody tr th {\n",
       "        vertical-align: top;\n",
       "    }\n",
       "\n",
       "    .dataframe thead th {\n",
       "        text-align: right;\n",
       "    }\n",
       "</style>\n",
       "<table border=\"1\" class=\"dataframe\">\n",
       "  <thead>\n",
       "    <tr style=\"text-align: right;\">\n",
       "      <th></th>\n",
       "      <th>imdb_id</th>\n",
       "      <th>adult</th>\n",
       "      <th>backdrop_path</th>\n",
       "      <th>belongs_to_collection</th>\n",
       "      <th>budget</th>\n",
       "      <th>genres</th>\n",
       "      <th>homepage</th>\n",
       "      <th>id</th>\n",
       "      <th>original_language</th>\n",
       "      <th>original_title</th>\n",
       "      <th>overview</th>\n",
       "      <th>popularity</th>\n",
       "      <th>poster_path</th>\n",
       "      <th>production_companies</th>\n",
       "      <th>production_countries</th>\n",
       "      <th>release_date</th>\n",
       "      <th>revenue</th>\n",
       "      <th>runtime</th>\n",
       "      <th>spoken_languages</th>\n",
       "      <th>status</th>\n",
       "      <th>tagline</th>\n",
       "      <th>title</th>\n",
       "      <th>video</th>\n",
       "      <th>vote_average</th>\n",
       "      <th>vote_count</th>\n",
       "      <th>certification</th>\n",
       "    </tr>\n",
       "  </thead>\n",
       "  <tbody>\n",
       "    <tr>\n",
       "      <th>0</th>\n",
       "      <td>0</td>\n",
       "      <td>NaN</td>\n",
       "      <td>NaN</td>\n",
       "      <td>NaN</td>\n",
       "      <td>NaN</td>\n",
       "      <td>NaN</td>\n",
       "      <td>NaN</td>\n",
       "      <td>NaN</td>\n",
       "      <td>NaN</td>\n",
       "      <td>NaN</td>\n",
       "      <td>NaN</td>\n",
       "      <td>NaN</td>\n",
       "      <td>NaN</td>\n",
       "      <td>NaN</td>\n",
       "      <td>NaN</td>\n",
       "      <td>NaN</td>\n",
       "      <td>NaN</td>\n",
       "      <td>NaN</td>\n",
       "      <td>NaN</td>\n",
       "      <td>NaN</td>\n",
       "      <td>NaN</td>\n",
       "      <td>NaN</td>\n",
       "      <td>NaN</td>\n",
       "      <td>NaN</td>\n",
       "      <td>NaN</td>\n",
       "      <td>NaN</td>\n",
       "    </tr>\n",
       "    <tr>\n",
       "      <th>1</th>\n",
       "      <td>tt0035423</td>\n",
       "      <td>0.0</td>\n",
       "      <td>/hfeiSfWYujh6MKhtGTXyK3DD4nN.jpg</td>\n",
       "      <td>NaN</td>\n",
       "      <td>48000000.0</td>\n",
       "      <td>[{'id': 10749, 'name': 'Romance'}, {'id': 14, ...</td>\n",
       "      <td>NaN</td>\n",
       "      <td>11232.0</td>\n",
       "      <td>en</td>\n",
       "      <td>Kate &amp; Leopold</td>\n",
       "      <td>When her scientist ex-boyfriend discovers a po...</td>\n",
       "      <td>11.011</td>\n",
       "      <td>/mUvikzKJJSg9khrVdxK8kg3TMHA.jpg</td>\n",
       "      <td>[{'id': 85, 'logo_path': None, 'name': 'Konrad...</td>\n",
       "      <td>[{'iso_3166_1': 'US', 'name': 'United States o...</td>\n",
       "      <td>2001-12-25</td>\n",
       "      <td>76019048.0</td>\n",
       "      <td>118.0</td>\n",
       "      <td>[{'english_name': 'French', 'iso_639_1': 'fr',...</td>\n",
       "      <td>Released</td>\n",
       "      <td>If they lived in the same century, they'd be p...</td>\n",
       "      <td>Kate &amp; Leopold</td>\n",
       "      <td>0.0</td>\n",
       "      <td>6.331</td>\n",
       "      <td>1213.0</td>\n",
       "      <td>PG-13</td>\n",
       "    </tr>\n",
       "    <tr>\n",
       "      <th>2</th>\n",
       "      <td>tt0114447</td>\n",
       "      <td>0.0</td>\n",
       "      <td>NaN</td>\n",
       "      <td>NaN</td>\n",
       "      <td>0.0</td>\n",
       "      <td>[{'id': 53, 'name': 'Thriller'}, {'id': 28, 'n...</td>\n",
       "      <td>NaN</td>\n",
       "      <td>151007.0</td>\n",
       "      <td>en</td>\n",
       "      <td>The Silent Force</td>\n",
       "      <td>An elite Federal force whose objective is to e...</td>\n",
       "      <td>0.681</td>\n",
       "      <td>/u0njmfXD3dXxQfeykBHBuFQOYqD.jpg</td>\n",
       "      <td>[]</td>\n",
       "      <td>[]</td>\n",
       "      <td>2001-01-01</td>\n",
       "      <td>0.0</td>\n",
       "      <td>90.0</td>\n",
       "      <td>[{'english_name': 'English', 'iso_639_1': 'en'...</td>\n",
       "      <td>Released</td>\n",
       "      <td>They left him for dead... They should have fin...</td>\n",
       "      <td>The Silent Force</td>\n",
       "      <td>0.0</td>\n",
       "      <td>5.000</td>\n",
       "      <td>3.0</td>\n",
       "      <td>NaN</td>\n",
       "    </tr>\n",
       "    <tr>\n",
       "      <th>3</th>\n",
       "      <td>tt0116916</td>\n",
       "      <td>0.0</td>\n",
       "      <td>/rFpHBidSlhjflmnLu7BZilyKeQR.jpg</td>\n",
       "      <td>NaN</td>\n",
       "      <td>0.0</td>\n",
       "      <td>[{'id': 28, 'name': 'Action'}, {'id': 12, 'nam...</td>\n",
       "      <td>NaN</td>\n",
       "      <td>73549.0</td>\n",
       "      <td>en</td>\n",
       "      <td>The Dark Mist</td>\n",
       "      <td>With the future of the world hanging in the ba...</td>\n",
       "      <td>1.060</td>\n",
       "      <td>/z18E0lukzOtAALmfINSTCUU0Als.jpg</td>\n",
       "      <td>[{'id': 71364, 'logo_path': None, 'name': 'Car...</td>\n",
       "      <td>[{'iso_3166_1': 'US', 'name': 'United States o...</td>\n",
       "      <td>1996-01-01</td>\n",
       "      <td>0.0</td>\n",
       "      <td>101.0</td>\n",
       "      <td>[{'english_name': 'English', 'iso_639_1': 'en'...</td>\n",
       "      <td>Released</td>\n",
       "      <td>NaN</td>\n",
       "      <td>The Dark Mist</td>\n",
       "      <td>0.0</td>\n",
       "      <td>3.500</td>\n",
       "      <td>2.0</td>\n",
       "      <td>PG</td>\n",
       "    </tr>\n",
       "    <tr>\n",
       "      <th>4</th>\n",
       "      <td>tt0118589</td>\n",
       "      <td>0.0</td>\n",
       "      <td>/9NZAirJahVilTiDNCHLFcdkwkiy.jpg</td>\n",
       "      <td>NaN</td>\n",
       "      <td>22000000.0</td>\n",
       "      <td>[{'id': 18, 'name': 'Drama'}, {'id': 10402, 'n...</td>\n",
       "      <td>NaN</td>\n",
       "      <td>10696.0</td>\n",
       "      <td>en</td>\n",
       "      <td>Glitter</td>\n",
       "      <td>A young woman is catapulted into pop stardom, ...</td>\n",
       "      <td>8.402</td>\n",
       "      <td>/b8gKsXB6d60SC2HKUcAAzTacn0S.jpg</td>\n",
       "      <td>[{'id': 89627, 'logo_path': None, 'name': 'Gli...</td>\n",
       "      <td>[{'iso_3166_1': 'US', 'name': 'United States o...</td>\n",
       "      <td>2001-09-21</td>\n",
       "      <td>5271666.0</td>\n",
       "      <td>104.0</td>\n",
       "      <td>[{'english_name': 'English', 'iso_639_1': 'en'...</td>\n",
       "      <td>Released</td>\n",
       "      <td>In music she found her dream, her love, herself.</td>\n",
       "      <td>Glitter</td>\n",
       "      <td>0.0</td>\n",
       "      <td>4.438</td>\n",
       "      <td>129.0</td>\n",
       "      <td>PG-13</td>\n",
       "    </tr>\n",
       "  </tbody>\n",
       "</table>\n",
       "</div>"
      ],
      "text/plain": [
       "     imdb_id  adult                     backdrop_path belongs_to_collection  \\\n",
       "0          0    NaN                               NaN                   NaN   \n",
       "1  tt0035423    0.0  /hfeiSfWYujh6MKhtGTXyK3DD4nN.jpg                   NaN   \n",
       "2  tt0114447    0.0                               NaN                   NaN   \n",
       "3  tt0116916    0.0  /rFpHBidSlhjflmnLu7BZilyKeQR.jpg                   NaN   \n",
       "4  tt0118589    0.0  /9NZAirJahVilTiDNCHLFcdkwkiy.jpg                   NaN   \n",
       "\n",
       "       budget                                             genres homepage  \\\n",
       "0         NaN                                                NaN      NaN   \n",
       "1  48000000.0  [{'id': 10749, 'name': 'Romance'}, {'id': 14, ...      NaN   \n",
       "2         0.0  [{'id': 53, 'name': 'Thriller'}, {'id': 28, 'n...      NaN   \n",
       "3         0.0  [{'id': 28, 'name': 'Action'}, {'id': 12, 'nam...      NaN   \n",
       "4  22000000.0  [{'id': 18, 'name': 'Drama'}, {'id': 10402, 'n...      NaN   \n",
       "\n",
       "         id original_language    original_title  \\\n",
       "0       NaN               NaN               NaN   \n",
       "1   11232.0                en    Kate & Leopold   \n",
       "2  151007.0                en  The Silent Force   \n",
       "3   73549.0                en     The Dark Mist   \n",
       "4   10696.0                en           Glitter   \n",
       "\n",
       "                                            overview  popularity  \\\n",
       "0                                                NaN         NaN   \n",
       "1  When her scientist ex-boyfriend discovers a po...      11.011   \n",
       "2  An elite Federal force whose objective is to e...       0.681   \n",
       "3  With the future of the world hanging in the ba...       1.060   \n",
       "4  A young woman is catapulted into pop stardom, ...       8.402   \n",
       "\n",
       "                        poster_path  \\\n",
       "0                               NaN   \n",
       "1  /mUvikzKJJSg9khrVdxK8kg3TMHA.jpg   \n",
       "2  /u0njmfXD3dXxQfeykBHBuFQOYqD.jpg   \n",
       "3  /z18E0lukzOtAALmfINSTCUU0Als.jpg   \n",
       "4  /b8gKsXB6d60SC2HKUcAAzTacn0S.jpg   \n",
       "\n",
       "                                production_companies  \\\n",
       "0                                                NaN   \n",
       "1  [{'id': 85, 'logo_path': None, 'name': 'Konrad...   \n",
       "2                                                 []   \n",
       "3  [{'id': 71364, 'logo_path': None, 'name': 'Car...   \n",
       "4  [{'id': 89627, 'logo_path': None, 'name': 'Gli...   \n",
       "\n",
       "                                production_countries release_date     revenue  \\\n",
       "0                                                NaN          NaN         NaN   \n",
       "1  [{'iso_3166_1': 'US', 'name': 'United States o...   2001-12-25  76019048.0   \n",
       "2                                                 []   2001-01-01         0.0   \n",
       "3  [{'iso_3166_1': 'US', 'name': 'United States o...   1996-01-01         0.0   \n",
       "4  [{'iso_3166_1': 'US', 'name': 'United States o...   2001-09-21   5271666.0   \n",
       "\n",
       "   runtime                                   spoken_languages    status  \\\n",
       "0      NaN                                                NaN       NaN   \n",
       "1    118.0  [{'english_name': 'French', 'iso_639_1': 'fr',...  Released   \n",
       "2     90.0  [{'english_name': 'English', 'iso_639_1': 'en'...  Released   \n",
       "3    101.0  [{'english_name': 'English', 'iso_639_1': 'en'...  Released   \n",
       "4    104.0  [{'english_name': 'English', 'iso_639_1': 'en'...  Released   \n",
       "\n",
       "                                             tagline             title  video  \\\n",
       "0                                                NaN               NaN    NaN   \n",
       "1  If they lived in the same century, they'd be p...    Kate & Leopold    0.0   \n",
       "2  They left him for dead... They should have fin...  The Silent Force    0.0   \n",
       "3                                                NaN     The Dark Mist    0.0   \n",
       "4   In music she found her dream, her love, herself.           Glitter    0.0   \n",
       "\n",
       "   vote_average  vote_count certification  \n",
       "0           NaN         NaN           NaN  \n",
       "1         6.331      1213.0         PG-13  \n",
       "2         5.000         3.0           NaN  \n",
       "3         3.500         2.0            PG  \n",
       "4         4.438       129.0         PG-13  "
      ]
     },
     "execution_count": 95,
     "metadata": {},
     "output_type": "execute_result"
    }
   ],
   "source": [
    "df_2001.head()"
   ]
  },
  {
   "cell_type": "code",
   "execution_count": 85,
   "id": "b31c3e7e",
   "metadata": {},
   "outputs": [
    {
     "data": {
      "text/plain": [
       "['Data/final_tmdb_data_2000.csv.gz', 'Data/final_tmdb_data_2001.csv.gz']"
      ]
     },
     "execution_count": 85,
     "metadata": {},
     "output_type": "execute_result"
    }
   ],
   "source": [
    "# Recursive query - extra /**/ added to string\n",
    "q = ['Data/final_tmdb_data_2000.csv.gz', 'Data/final_tmdb_data_2001.csv.gz']\n",
    "tmdb_files = q \n",
    "# Showing the first 5 \n",
    "tmdb_files[:5]\n"
   ]
  },
  {
   "cell_type": "code",
   "execution_count": 86,
   "id": "e734b532",
   "metadata": {},
   "outputs": [
    {
     "name": "stdout",
     "output_type": "stream",
     "text": [
      "Number of rows in df_2001: 1342\n",
      "Number of rows in df_2000: 1248\n"
     ]
    }
   ],
   "source": [
    "# Count the number of rows in df_2001\n",
    "num_rows_df_2001 = df_2001.shape[0]\n",
    "\n",
    "# Count the number of rows in df_2000\n",
    "num_rows_df_2000 = df_2000.shape[0]\n",
    "\n",
    "\n",
    "print(\"Number of rows in df_2001:\", num_rows_df_2001)\n",
    "print(\"Number of rows in df_2000:\", num_rows_df_2000)"
   ]
  },
  {
   "cell_type": "code",
   "execution_count": 87,
   "id": "8fcb2d11",
   "metadata": {},
   "outputs": [
    {
     "data": {
      "text/plain": [
       "2590"
      ]
     },
     "execution_count": 87,
     "metadata": {},
     "output_type": "execute_result"
    }
   ],
   "source": [
    "#merge\n",
    "df = pd.concat([df_2000, df_2001], ignore_index=True)\n",
    "#check total\n",
    "df.shape[0]"
   ]
  },
  {
   "cell_type": "markdown",
   "id": "0c7b7c92",
   "metadata": {},
   "source": [
    "## Clean data"
   ]
  },
  {
   "cell_type": "code",
   "execution_count": 96,
   "id": "2129b798",
   "metadata": {},
   "outputs": [],
   "source": [
    "df = df.dropna(subset=['certification', 'revenue'])"
   ]
  },
  {
   "cell_type": "markdown",
   "id": "4c775d73",
   "metadata": {},
   "source": [
    "# DATA CLARIFICATION. USE 2001 PART 2 (SHOULD IT BE PART 3?) ONLY FOR NOW"
   ]
  },
  {
   "cell_type": "code",
   "execution_count": 97,
   "id": "385ae855",
   "metadata": {},
   "outputs": [],
   "source": [
    "import pandas as pd\n",
    "import numpy as np\n",
    "import matplotlib.pyplot as plt\n",
    "import seaborn as sns\n",
    "import scipy.stats as stats"
   ]
  },
  {
   "cell_type": "markdown",
   "id": "adab8d53",
   "metadata": {},
   "source": [
    "## 1. Does the MPAA rating of a movie (G/PG/PG-13/R) affect how much revenue the movie generates? (USE ANOVA)\n",
    "\n",
    "- They want you to perform a statistical test to get a mathematically-supported answer.\n",
    "- They want you to report if you found a significant difference between ratings.\n",
    "    - If so, what was the p-value of your analysis?\n",
    "    - And which rating earns the most revenue?\n",
    "- They want you to prepare a visualization that supports your finding."
   ]
  },
  {
   "cell_type": "code",
   "execution_count": 98,
   "id": "e31e3ec5",
   "metadata": {
    "scrolled": false
   },
   "outputs": [
    {
     "data": {
      "image/png": "[encoded data removed]",
      "text/plain": [
       "<Figure size 640x480 with 1 Axes>"
      ]
     },
     "metadata": {},
     "output_type": "display_data"
    }
   ],
   "source": [
    "sns.barplot(data=df, x='certification',y='revenue');"
   ]
  },
  {
   "cell_type": "markdown",
   "id": "f22740ef",
   "metadata": {},
   "source": [
    "### Separating Our Groups"
   ]
  },
  {
   "cell_type": "code",
   "execution_count": 99,
   "id": "4fd171e6",
   "metadata": {},
   "outputs": [
    {
     "data": {
      "text/plain": [
       "dict_keys(['PG', 'R', 'G', 'NR', 'PG-13', 'NC-17', 'Unrated'])"
      ]
     },
     "execution_count": 99,
     "metadata": {},
     "output_type": "execute_result"
    }
   ],
   "source": [
    "## Create groups dictionary. There are only 3 groups, but this is even more helpful when there are many groups\n",
    "groups = {}\n",
    "## Loop through all unique categories\n",
    "for i in df['certification'].unique():\n",
    "    ## Get series for group and rename\n",
    "    data = df.loc[df['certification']==i,'revenue'].copy()\n",
    "    \n",
    "    # save into the dictionary\n",
    "    groups[i] = data\n",
    "groups.keys()"
   ]
  },
  {
   "cell_type": "markdown",
   "id": "7a074e01",
   "metadata": {},
   "source": [
    "### Testing Assumptions"
   ]
  },
  {
   "cell_type": "code",
   "execution_count": 100,
   "id": "8bb539fa",
   "metadata": {},
   "outputs": [
    {
     "name": "stdout",
     "output_type": "stream",
     "text": [
      "Group NC-17 does not have enough data points for normal test.\n",
      "Group Unrated does not have enough data points for normal test.\n",
      "           n             p   test stat\n",
      "PG      62.0  1.207790e-19   87.120650\n",
      "R      465.0  2.271121e-96  440.455791\n",
      "G       25.0  4.860998e-09   38.284044\n",
      "NR      73.0  6.959114e-32  143.485342\n",
      "PG-13  182.0  1.320001e-30  137.599841\n"
     ]
    }
   ],
   "source": [
    "import pandas as pd\n",
    "from scipy import stats\n",
    "\n",
    "norm_results = {}\n",
    "\n",
    "for i, data in groups.items():\n",
    "    if len(data) >= 8:  # Check if the group has at least 8 data points\n",
    "        stat, p = stats.normaltest(data)\n",
    "        norm_results[i] = {'n': len(data),\n",
    "                           'p': p,\n",
    "                           'test stat': stat}\n",
    "    else:\n",
    "        print(f\"Group {i} does not have enough data points for normal test.\")\n",
    "\n",
    "norm_results_df = pd.DataFrame(norm_results).T\n",
    "print(norm_results_df)\n"
   ]
  },
  {
   "cell_type": "code",
   "execution_count": 101,
   "id": "d7502f3f",
   "metadata": {},
   "outputs": [
    {
     "data": {
      "text/html": [
       "<div>\n",
       "<style scoped>\n",
       "    .dataframe tbody tr th:only-of-type {\n",
       "        vertical-align: middle;\n",
       "    }\n",
       "\n",
       "    .dataframe tbody tr th {\n",
       "        vertical-align: top;\n",
       "    }\n",
       "\n",
       "    .dataframe thead th {\n",
       "        text-align: right;\n",
       "    }\n",
       "</style>\n",
       "<table border=\"1\" class=\"dataframe\">\n",
       "  <thead>\n",
       "    <tr style=\"text-align: right;\">\n",
       "      <th></th>\n",
       "      <th>n</th>\n",
       "      <th>p</th>\n",
       "      <th>test stat</th>\n",
       "      <th>sig</th>\n",
       "    </tr>\n",
       "  </thead>\n",
       "  <tbody>\n",
       "    <tr>\n",
       "      <th>PG</th>\n",
       "      <td>62.0</td>\n",
       "      <td>1.207790e-19</td>\n",
       "      <td>87.120650</td>\n",
       "      <td>True</td>\n",
       "    </tr>\n",
       "    <tr>\n",
       "      <th>R</th>\n",
       "      <td>465.0</td>\n",
       "      <td>2.271121e-96</td>\n",
       "      <td>440.455791</td>\n",
       "      <td>True</td>\n",
       "    </tr>\n",
       "    <tr>\n",
       "      <th>G</th>\n",
       "      <td>25.0</td>\n",
       "      <td>4.860998e-09</td>\n",
       "      <td>38.284044</td>\n",
       "      <td>True</td>\n",
       "    </tr>\n",
       "    <tr>\n",
       "      <th>NR</th>\n",
       "      <td>73.0</td>\n",
       "      <td>6.959114e-32</td>\n",
       "      <td>143.485342</td>\n",
       "      <td>True</td>\n",
       "    </tr>\n",
       "    <tr>\n",
       "      <th>PG-13</th>\n",
       "      <td>182.0</td>\n",
       "      <td>1.320001e-30</td>\n",
       "      <td>137.599841</td>\n",
       "      <td>True</td>\n",
       "    </tr>\n",
       "  </tbody>\n",
       "</table>\n",
       "</div>"
      ],
      "text/plain": [
       "           n             p   test stat   sig\n",
       "PG      62.0  1.207790e-19   87.120650  True\n",
       "R      465.0  2.271121e-96  440.455791  True\n",
       "G       25.0  4.860998e-09   38.284044  True\n",
       "NR      73.0  6.959114e-32  143.485342  True\n",
       "PG-13  182.0  1.320001e-30  137.599841  True"
      ]
     },
     "execution_count": 101,
     "metadata": {},
     "output_type": "execute_result"
    }
   ],
   "source": [
    "### checking sig with pandas \n",
    "norm_results_df['sig'] = norm_results_df['p'] < .05 \n",
    "norm_results_df"
   ]
  },
  {
   "cell_type": "markdown",
   "id": "0e3ed9a3",
   "metadata": {},
   "source": [
    "### Testing Assumption of Equal Variance"
   ]
  },
  {
   "cell_type": "code",
   "execution_count": 102,
   "id": "e48a719e",
   "metadata": {},
   "outputs": [
    {
     "data": {
      "text/plain": [
       "LeveneResult(statistic=21.171461307584046, pvalue=1.2960483793689429e-16)"
      ]
     },
     "execution_count": 102,
     "metadata": {},
     "output_type": "execute_result"
    }
   ],
   "source": [
    "stats.levene(groups['PG-13'],\n",
    "            groups['PG'],\n",
    "            groups['R'],\n",
    "            groups['NR'],\n",
    "            groups['G'])"
   ]
  },
  {
   "cell_type": "markdown",
   "id": "6410cc92",
   "metadata": {},
   "source": [
    "### Did you find a significant difference between ratings?\n",
    "\n",
    "- P-value is very small (1.2960483793689429e-16), which is less than the commonly used significance level of 0.05.\n",
    "- This indicates strong evidence against the null hypothesis\n",
    "- There IS a significant difference in the groups\n",
    "\n",
    "### If so, what was the p-value of your analysis?\n",
    "- 1.2960483793689429e-16\n",
    "### And which rating earns the most revenue?\n",
    "-  rating with the highest \"test stat\" value. \"R\" has the highest test statistic of 440.455791, suggesting that the \"R\" rating category might be associated with the highest revenue."
   ]
  },
  {
   "cell_type": "markdown",
   "id": "248193da",
   "metadata": {},
   "source": [
    "### One-Way ANOVA Test"
   ]
  },
  {
   "cell_type": "code",
   "execution_count": 103,
   "id": "4114af7f",
   "metadata": {},
   "outputs": [
    {
     "data": {
      "text/plain": [
       "F_onewayResult(statistic=14.233427144846344, pvalue=1.85584542480982e-15)"
      ]
     },
     "execution_count": 103,
     "metadata": {},
     "output_type": "execute_result"
    }
   ],
   "source": [
    "# perform the correct hypothesis test\n",
    "# note again the use of the * operator for convenience\n",
    "result = stats.f_oneway( *groups.values())\n",
    "result"
   ]
  },
  {
   "cell_type": "markdown",
   "id": "bc84ae7f",
   "metadata": {},
   "source": [
    "### Tukey's Pairwise Multiple Comparisons Test"
   ]
  },
  {
   "cell_type": "code",
   "execution_count": 104,
   "id": "5813ed7d",
   "metadata": {},
   "outputs": [],
   "source": [
    "from statsmodels.stats.multicomp import MultiComparison\n",
    "from statsmodels.stats.multicomp import pairwise_tukeyhsd\n",
    "## save the values as revenue and the labels to the Certification\n",
    "values = df['revenue']\n",
    "labels = df['certification']"
   ]
  },
  {
   "cell_type": "code",
   "execution_count": 111,
   "id": "4b7032cd",
   "metadata": {
    "scrolled": true
   },
   "outputs": [
    {
     "data": {
      "text/html": [
       "<table class=\"simpletable\">\n",
       "<caption>Multiple Comparison of Means - Tukey HSD, FWER=0.05</caption>\n",
       "<tr>\n",
       "  <th>group1</th> <th>group2</th>     <th>meandiff</th>     <th>p-adj</th>      <th>lower</th>           <th>upper</th>     <th>reject</th>\n",
       "</tr>\n",
       "<tr>\n",
       "     <td>G</td>    <td>NC-17</td>   <td>-70418856.48</td>  <td>0.4887</td> <td>-180650842.3269</td>  <td>39813129.3669</td>  <td>False</td>\n",
       "</tr>\n",
       "<tr>\n",
       "     <td>G</td>     <td>NR</td>     <td>-65580213.754</td> <td>0.0105</td> <td>-121769564.949</td>   <td>-9390862.559</td>   <td>True</td> \n",
       "</tr>\n",
       "<tr>\n",
       "     <td>G</td>     <td>PG</td>     <td>-7938730.6252</td> <td>0.9996</td> <td>-65385576.8319</td>   <td>49508115.5816</td>  <td>False</td>\n",
       "</tr>\n",
       "<tr>\n",
       "     <td>G</td>    <td>PG-13</td>    <td>1046580.009</td>    <td>1.0</td>  <td>-50672630.6908</td>   <td>52765790.7089</td>  <td>False</td>\n",
       "</tr>\n",
       "<tr>\n",
       "     <td>G</td>      <td>R</td>    <td>-55504776.5058</td> <td>0.0177</td> <td>-105286963.6625</td>  <td>-5722589.3491</td>  <td>True</td> \n",
       "</tr>\n",
       "<tr>\n",
       "     <td>G</td>   <td>Unrated</td>  <td>-70418856.48</td>  <td>0.9805</td> <td>-317698908.6205</td> <td>176861195.6605</td>  <td>False</td>\n",
       "</tr>\n",
       "<tr>\n",
       "   <td>NC-17</td>   <td>NR</td>      <td>4838642.726</td>    <td>1.0</td>  <td>-98140412.8004</td>  <td>107817698.2524</td>  <td>False</td>\n",
       "</tr>\n",
       "<tr>\n",
       "   <td>NC-17</td>   <td>PG</td>     <td>62480125.8548</td> <td>0.5611</td> <td>-41190423.6204</td>  <td>166150675.3301</td>  <td>False</td>\n",
       "</tr>\n",
       "<tr>\n",
       "   <td>NC-17</td>  <td>PG-13</td>   <td>71465436.489</td>  <td>0.3538</td> <td>-29144301.8309</td>   <td>172075174.809</td>  <td>False</td>\n",
       "</tr>\n",
       "<tr>\n",
       "   <td>NC-17</td>    <td>R</td>     <td>14914079.9742</td> <td>0.9994</td> <td>-84713771.7917</td>  <td>114541931.7401</td>  <td>False</td>\n",
       "</tr>\n",
       "<tr>\n",
       "   <td>NC-17</td> <td>Unrated</td>       <td>0.0</td>        <td>1.0</td>  <td>-261906217.7116</td> <td>261906217.7116</td>  <td>False</td>\n",
       "</tr>\n",
       "<tr>\n",
       "    <td>NR</td>     <td>PG</td>     <td>57641483.1288</td>  <td>0.001</td>  <td>15763860.077</td>    <td>99519106.1806</td>  <td>True</td> \n",
       "</tr>\n",
       "<tr>\n",
       "    <td>NR</td>    <td>PG-13</td>   <td>66626793.763</td>    <td>0.0</td>   <td>33034057.5127</td>  <td>100219530.0132</td>  <td>True</td> \n",
       "</tr>\n",
       "<tr>\n",
       "    <td>NR</td>      <td>R</td>     <td>10075437.2482</td> <td>0.9592</td> <td>-20450966.5928</td>   <td>40601841.0892</td>  <td>False</td>\n",
       "</tr>\n",
       "<tr>\n",
       "    <td>NR</td>   <td>Unrated</td>  <td>-4838642.726</td>    <td>1.0</td>  <td>-248971842.7623</td> <td>239294557.3103</td>  <td>False</td>\n",
       "</tr>\n",
       "<tr>\n",
       "    <td>PG</td>    <td>PG-13</td>   <td>8985310.6342</td>  <td>0.9897</td> <td>-26670949.4076</td>   <td>44641570.6759</td>  <td>False</td>\n",
       "</tr>\n",
       "<tr>\n",
       "    <td>PG</td>      <td>R</td>    <td>-47566045.8806</td> <td>0.0004</td> <td>-80349552.1429</td>  <td>-14782539.6184</td>  <td>True</td> \n",
       "</tr>\n",
       "<tr>\n",
       "    <td>PG</td>   <td>Unrated</td> <td>-62480125.8548</td> <td>0.9889</td> <td>-306905812.5397</td>  <td>181945560.83</td>   <td>False</td>\n",
       "</tr>\n",
       "<tr>\n",
       "   <td>PG-13</td>    <td>R</td>    <td>-56551356.5148</td>   <td>0.0</td>  <td>-77752651.2668</td>  <td>-35350061.7628</td>  <td>True</td> \n",
       "</tr>\n",
       "<tr>\n",
       "   <td>PG-13</td> <td>Unrated</td>  <td>-71465436.489</td>  <td>0.977</td> <td>-314608713.0312</td> <td>171677840.0532</td>  <td>False</td>\n",
       "</tr>\n",
       "<tr>\n",
       "     <td>R</td>   <td>Unrated</td> <td>-14914079.9742</td>   <td>1.0</td>  <td>-257652709.6365</td> <td>227824549.6881</td>  <td>False</td>\n",
       "</tr>\n",
       "</table>"
      ],
      "text/plain": [
       "<class 'statsmodels.iolib.table.SimpleTable'>"
      ]
     },
     "execution_count": 111,
     "metadata": {},
     "output_type": "execute_result"
    }
   ],
   "source": [
    "## perform tukey's multiple comparison test and display the summary\n",
    "tukeys_results = pairwise_tukeyhsd(values,labels)\n",
    "tukeys_results.summary()"
   ]
  },
  {
   "cell_type": "markdown",
   "id": "4f1a28c0",
   "metadata": {},
   "source": [
    "# 2. Do movies that are over 2.5 hours long earn more revenue than movies that are 1.5 hours long (or less)? (USE t-test)"
   ]
  },
  {
   "cell_type": "code",
   "execution_count": 20,
   "id": "50e0b16e",
   "metadata": {},
   "outputs": [
    {
     "data": {
      "text/html": [
       "<div>\n",
       "<style scoped>\n",
       "    .dataframe tbody tr th:only-of-type {\n",
       "        vertical-align: middle;\n",
       "    }\n",
       "\n",
       "    .dataframe tbody tr th {\n",
       "        vertical-align: top;\n",
       "    }\n",
       "\n",
       "    .dataframe thead th {\n",
       "        text-align: right;\n",
       "    }\n",
       "</style>\n",
       "<table border=\"1\" class=\"dataframe\">\n",
       "  <thead>\n",
       "    <tr style=\"text-align: right;\">\n",
       "      <th></th>\n",
       "      <th>imdb_id</th>\n",
       "      <th>adult</th>\n",
       "      <th>backdrop_path</th>\n",
       "      <th>belongs_to_collection</th>\n",
       "      <th>budget</th>\n",
       "      <th>genres</th>\n",
       "      <th>homepage</th>\n",
       "      <th>id</th>\n",
       "      <th>original_language</th>\n",
       "      <th>original_title</th>\n",
       "      <th>overview</th>\n",
       "      <th>popularity</th>\n",
       "      <th>poster_path</th>\n",
       "      <th>production_companies</th>\n",
       "      <th>production_countries</th>\n",
       "      <th>release_date</th>\n",
       "      <th>revenue</th>\n",
       "      <th>runtime</th>\n",
       "      <th>spoken_languages</th>\n",
       "      <th>status</th>\n",
       "      <th>tagline</th>\n",
       "      <th>title</th>\n",
       "      <th>video</th>\n",
       "      <th>vote_average</th>\n",
       "      <th>vote_count</th>\n",
       "      <th>certification</th>\n",
       "    </tr>\n",
       "  </thead>\n",
       "  <tbody>\n",
       "    <tr>\n",
       "      <th>0</th>\n",
       "      <td>0</td>\n",
       "      <td>NaN</td>\n",
       "      <td>NaN</td>\n",
       "      <td>NaN</td>\n",
       "      <td>NaN</td>\n",
       "      <td>NaN</td>\n",
       "      <td>NaN</td>\n",
       "      <td>NaN</td>\n",
       "      <td>NaN</td>\n",
       "      <td>NaN</td>\n",
       "      <td>NaN</td>\n",
       "      <td>NaN</td>\n",
       "      <td>NaN</td>\n",
       "      <td>NaN</td>\n",
       "      <td>NaN</td>\n",
       "      <td>NaN</td>\n",
       "      <td>NaN</td>\n",
       "      <td>NaN</td>\n",
       "      <td>NaN</td>\n",
       "      <td>NaN</td>\n",
       "      <td>NaN</td>\n",
       "      <td>NaN</td>\n",
       "      <td>NaN</td>\n",
       "      <td>NaN</td>\n",
       "      <td>NaN</td>\n",
       "      <td>NaN</td>\n",
       "    </tr>\n",
       "    <tr>\n",
       "      <th>1</th>\n",
       "      <td>tt0113026</td>\n",
       "      <td>0.0</td>\n",
       "      <td>/vMFs7nw6P0bIV1jDsQpxAieAVnH.jpg</td>\n",
       "      <td>NaN</td>\n",
       "      <td>10000000.0</td>\n",
       "      <td>[{'id': 35, 'name': 'Comedy'}, {'id': 10402, '...</td>\n",
       "      <td>NaN</td>\n",
       "      <td>62127.0</td>\n",
       "      <td>en</td>\n",
       "      <td>The Fantasticks</td>\n",
       "      <td>Two rural teens sing and dance their way throu...</td>\n",
       "      <td>2.065</td>\n",
       "      <td>/hfO64mXz3DgUxkBVU7no2UWRP7x.jpg</td>\n",
       "      <td>[{'id': 51207, 'logo_path': None, 'name': 'Sul...</td>\n",
       "      <td>[{'iso_3166_1': 'US', 'name': 'United States o...</td>\n",
       "      <td>2000-09-22</td>\n",
       "      <td>0.0</td>\n",
       "      <td>86.0</td>\n",
       "      <td>[{'english_name': 'English', 'iso_639_1': 'en'...</td>\n",
       "      <td>Released</td>\n",
       "      <td>Try to remember the first time magic happened</td>\n",
       "      <td>The Fantasticks</td>\n",
       "      <td>0.0</td>\n",
       "      <td>5.50</td>\n",
       "      <td>22.0</td>\n",
       "      <td>NaN</td>\n",
       "    </tr>\n",
       "    <tr>\n",
       "      <th>2</th>\n",
       "      <td>tt0113092</td>\n",
       "      <td>0.0</td>\n",
       "      <td>NaN</td>\n",
       "      <td>NaN</td>\n",
       "      <td>0.0</td>\n",
       "      <td>[{'id': 878, 'name': 'Science Fiction'}]</td>\n",
       "      <td>NaN</td>\n",
       "      <td>110977.0</td>\n",
       "      <td>en</td>\n",
       "      <td>For the Cause</td>\n",
       "      <td>Earth is in a state of constant war and two co...</td>\n",
       "      <td>1.761</td>\n",
       "      <td>/h9bWO13nWRGZJo4XVPiElXyrRMU.jpg</td>\n",
       "      <td>[{'id': 7405, 'logo_path': '/rfnws0uY8rsNAsrLb...</td>\n",
       "      <td>[{'iso_3166_1': 'US', 'name': 'United States o...</td>\n",
       "      <td>2000-11-15</td>\n",
       "      <td>0.0</td>\n",
       "      <td>100.0</td>\n",
       "      <td>[{'english_name': 'English', 'iso_639_1': 'en'...</td>\n",
       "      <td>Released</td>\n",
       "      <td>The ultimate showdown on a forbidden planet.</td>\n",
       "      <td>For the Cause</td>\n",
       "      <td>0.0</td>\n",
       "      <td>5.45</td>\n",
       "      <td>10.0</td>\n",
       "      <td>NaN</td>\n",
       "    </tr>\n",
       "    <tr>\n",
       "      <th>3</th>\n",
       "      <td>tt0116391</td>\n",
       "      <td>0.0</td>\n",
       "      <td>NaN</td>\n",
       "      <td>NaN</td>\n",
       "      <td>0.0</td>\n",
       "      <td>[{'id': 18, 'name': 'Drama'}, {'id': 28, 'name...</td>\n",
       "      <td>NaN</td>\n",
       "      <td>442869.0</td>\n",
       "      <td>hi</td>\n",
       "      <td>Gang</td>\n",
       "      <td>After falling prey to underworld, four friends...</td>\n",
       "      <td>0.665</td>\n",
       "      <td>/yB5wRu4uyXXwZA3PEj8cITu0xt3.jpg</td>\n",
       "      <td>[]</td>\n",
       "      <td>[{'iso_3166_1': 'IN', 'name': 'India'}]</td>\n",
       "      <td>2000-04-14</td>\n",
       "      <td>0.0</td>\n",
       "      <td>152.0</td>\n",
       "      <td>[{'english_name': 'Hindi', 'iso_639_1': 'hi', ...</td>\n",
       "      <td>Released</td>\n",
       "      <td>NaN</td>\n",
       "      <td>Gang</td>\n",
       "      <td>0.0</td>\n",
       "      <td>4.00</td>\n",
       "      <td>1.0</td>\n",
       "      <td>NaN</td>\n",
       "    </tr>\n",
       "    <tr>\n",
       "      <th>4</th>\n",
       "      <td>tt0118694</td>\n",
       "      <td>0.0</td>\n",
       "      <td>/n4GJFGzsc7NinI1VeGDXIcQjtU2.jpg</td>\n",
       "      <td>NaN</td>\n",
       "      <td>150000.0</td>\n",
       "      <td>[{'id': 18, 'name': 'Drama'}, {'id': 10749, 'n...</td>\n",
       "      <td>NaN</td>\n",
       "      <td>843.0</td>\n",
       "      <td>cn</td>\n",
       "      <td>花樣年華</td>\n",
       "      <td>Two neighbors become intimate after discoverin...</td>\n",
       "      <td>27.301</td>\n",
       "      <td>/iYypPT4bhqXfq1b6EnmxvRt6b2Y.jpg</td>\n",
       "      <td>[{'id': 539, 'logo_path': '/iPLtePguIzOPNtAWfT...</td>\n",
       "      <td>[{'iso_3166_1': 'FR', 'name': 'France'}, {'iso...</td>\n",
       "      <td>2000-09-29</td>\n",
       "      <td>14204632.0</td>\n",
       "      <td>99.0</td>\n",
       "      <td>[{'english_name': 'Cantonese', 'iso_639_1': 'c...</td>\n",
       "      <td>Released</td>\n",
       "      <td>Feel the heat, keep the feeling burning, let t...</td>\n",
       "      <td>In the Mood for Love</td>\n",
       "      <td>0.0</td>\n",
       "      <td>8.11</td>\n",
       "      <td>2278.0</td>\n",
       "      <td>PG</td>\n",
       "    </tr>\n",
       "  </tbody>\n",
       "</table>\n",
       "</div>"
      ],
      "text/plain": [
       "     imdb_id  adult                     backdrop_path belongs_to_collection  \\\n",
       "0          0    NaN                               NaN                   NaN   \n",
       "1  tt0113026    0.0  /vMFs7nw6P0bIV1jDsQpxAieAVnH.jpg                   NaN   \n",
       "2  tt0113092    0.0                               NaN                   NaN   \n",
       "3  tt0116391    0.0                               NaN                   NaN   \n",
       "4  tt0118694    0.0  /n4GJFGzsc7NinI1VeGDXIcQjtU2.jpg                   NaN   \n",
       "\n",
       "       budget                                             genres homepage  \\\n",
       "0         NaN                                                NaN      NaN   \n",
       "1  10000000.0  [{'id': 35, 'name': 'Comedy'}, {'id': 10402, '...      NaN   \n",
       "2         0.0           [{'id': 878, 'name': 'Science Fiction'}]      NaN   \n",
       "3         0.0  [{'id': 18, 'name': 'Drama'}, {'id': 28, 'name...      NaN   \n",
       "4    150000.0  [{'id': 18, 'name': 'Drama'}, {'id': 10749, 'n...      NaN   \n",
       "\n",
       "         id original_language   original_title  \\\n",
       "0       NaN               NaN              NaN   \n",
       "1   62127.0                en  The Fantasticks   \n",
       "2  110977.0                en    For the Cause   \n",
       "3  442869.0                hi             Gang   \n",
       "4     843.0                cn             花樣年華   \n",
       "\n",
       "                                            overview  popularity  \\\n",
       "0                                                NaN         NaN   \n",
       "1  Two rural teens sing and dance their way throu...       2.065   \n",
       "2  Earth is in a state of constant war and two co...       1.761   \n",
       "3  After falling prey to underworld, four friends...       0.665   \n",
       "4  Two neighbors become intimate after discoverin...      27.301   \n",
       "\n",
       "                        poster_path  \\\n",
       "0                               NaN   \n",
       "1  /hfO64mXz3DgUxkBVU7no2UWRP7x.jpg   \n",
       "2  /h9bWO13nWRGZJo4XVPiElXyrRMU.jpg   \n",
       "3  /yB5wRu4uyXXwZA3PEj8cITu0xt3.jpg   \n",
       "4  /iYypPT4bhqXfq1b6EnmxvRt6b2Y.jpg   \n",
       "\n",
       "                                production_companies  \\\n",
       "0                                                NaN   \n",
       "1  [{'id': 51207, 'logo_path': None, 'name': 'Sul...   \n",
       "2  [{'id': 7405, 'logo_path': '/rfnws0uY8rsNAsrLb...   \n",
       "3                                                 []   \n",
       "4  [{'id': 539, 'logo_path': '/iPLtePguIzOPNtAWfT...   \n",
       "\n",
       "                                production_countries release_date     revenue  \\\n",
       "0                                                NaN          NaN         NaN   \n",
       "1  [{'iso_3166_1': 'US', 'name': 'United States o...   2000-09-22         0.0   \n",
       "2  [{'iso_3166_1': 'US', 'name': 'United States o...   2000-11-15         0.0   \n",
       "3            [{'iso_3166_1': 'IN', 'name': 'India'}]   2000-04-14         0.0   \n",
       "4  [{'iso_3166_1': 'FR', 'name': 'France'}, {'iso...   2000-09-29  14204632.0   \n",
       "\n",
       "   runtime                                   spoken_languages    status  \\\n",
       "0      NaN                                                NaN       NaN   \n",
       "1     86.0  [{'english_name': 'English', 'iso_639_1': 'en'...  Released   \n",
       "2    100.0  [{'english_name': 'English', 'iso_639_1': 'en'...  Released   \n",
       "3    152.0  [{'english_name': 'Hindi', 'iso_639_1': 'hi', ...  Released   \n",
       "4     99.0  [{'english_name': 'Cantonese', 'iso_639_1': 'c...  Released   \n",
       "\n",
       "                                             tagline                 title  \\\n",
       "0                                                NaN                   NaN   \n",
       "1      Try to remember the first time magic happened       The Fantasticks   \n",
       "2       The ultimate showdown on a forbidden planet.         For the Cause   \n",
       "3                                                NaN                  Gang   \n",
       "4  Feel the heat, keep the feeling burning, let t...  In the Mood for Love   \n",
       "\n",
       "   video  vote_average  vote_count certification  \n",
       "0    NaN           NaN         NaN           NaN  \n",
       "1    0.0          5.50        22.0           NaN  \n",
       "2    0.0          5.45        10.0           NaN  \n",
       "3    0.0          4.00         1.0           NaN  \n",
       "4    0.0          8.11      2278.0            PG  "
      ]
     },
     "execution_count": 20,
     "metadata": {},
     "output_type": "execute_result"
    }
   ],
   "source": [
    "df.head()"
   ]
  },
  {
   "cell_type": "code",
   "execution_count": 21,
   "id": "c3fa9517",
   "metadata": {},
   "outputs": [
    {
     "data": {
      "text/html": [
       "<div>\n",
       "<style scoped>\n",
       "    .dataframe tbody tr th:only-of-type {\n",
       "        vertical-align: middle;\n",
       "    }\n",
       "\n",
       "    .dataframe tbody tr th {\n",
       "        vertical-align: top;\n",
       "    }\n",
       "\n",
       "    .dataframe thead th {\n",
       "        text-align: right;\n",
       "    }\n",
       "</style>\n",
       "<table border=\"1\" class=\"dataframe\">\n",
       "  <thead>\n",
       "    <tr style=\"text-align: right;\">\n",
       "      <th></th>\n",
       "      <th>imdb_id</th>\n",
       "      <th>adult</th>\n",
       "      <th>backdrop_path</th>\n",
       "      <th>belongs_to_collection</th>\n",
       "      <th>budget</th>\n",
       "      <th>genres</th>\n",
       "      <th>homepage</th>\n",
       "      <th>id</th>\n",
       "      <th>original_language</th>\n",
       "      <th>original_title</th>\n",
       "      <th>overview</th>\n",
       "      <th>popularity</th>\n",
       "      <th>poster_path</th>\n",
       "      <th>production_companies</th>\n",
       "      <th>production_countries</th>\n",
       "      <th>release_date</th>\n",
       "      <th>revenue</th>\n",
       "      <th>runtime</th>\n",
       "      <th>spoken_languages</th>\n",
       "      <th>status</th>\n",
       "      <th>tagline</th>\n",
       "      <th>title</th>\n",
       "      <th>video</th>\n",
       "      <th>vote_average</th>\n",
       "      <th>vote_count</th>\n",
       "      <th>certification</th>\n",
       "      <th>duration_category</th>\n",
       "    </tr>\n",
       "  </thead>\n",
       "  <tbody>\n",
       "    <tr>\n",
       "      <th>0</th>\n",
       "      <td>0</td>\n",
       "      <td>NaN</td>\n",
       "      <td>NaN</td>\n",
       "      <td>NaN</td>\n",
       "      <td>NaN</td>\n",
       "      <td>NaN</td>\n",
       "      <td>NaN</td>\n",
       "      <td>NaN</td>\n",
       "      <td>NaN</td>\n",
       "      <td>NaN</td>\n",
       "      <td>NaN</td>\n",
       "      <td>NaN</td>\n",
       "      <td>NaN</td>\n",
       "      <td>NaN</td>\n",
       "      <td>NaN</td>\n",
       "      <td>NaN</td>\n",
       "      <td>NaN</td>\n",
       "      <td>NaN</td>\n",
       "      <td>NaN</td>\n",
       "      <td>NaN</td>\n",
       "      <td>NaN</td>\n",
       "      <td>NaN</td>\n",
       "      <td>NaN</td>\n",
       "      <td>NaN</td>\n",
       "      <td>NaN</td>\n",
       "      <td>NaN</td>\n",
       "      <td>NaN</td>\n",
       "    </tr>\n",
       "    <tr>\n",
       "      <th>1</th>\n",
       "      <td>tt0113026</td>\n",
       "      <td>0.0</td>\n",
       "      <td>/vMFs7nw6P0bIV1jDsQpxAieAVnH.jpg</td>\n",
       "      <td>NaN</td>\n",
       "      <td>10000000.0</td>\n",
       "      <td>[{'id': 35, 'name': 'Comedy'}, {'id': 10402, '...</td>\n",
       "      <td>NaN</td>\n",
       "      <td>62127.0</td>\n",
       "      <td>en</td>\n",
       "      <td>The Fantasticks</td>\n",
       "      <td>Two rural teens sing and dance their way throu...</td>\n",
       "      <td>2.065</td>\n",
       "      <td>/hfO64mXz3DgUxkBVU7no2UWRP7x.jpg</td>\n",
       "      <td>[{'id': 51207, 'logo_path': None, 'name': 'Sul...</td>\n",
       "      <td>[{'iso_3166_1': 'US', 'name': 'United States o...</td>\n",
       "      <td>2000-09-22</td>\n",
       "      <td>0.0</td>\n",
       "      <td>86.0</td>\n",
       "      <td>[{'english_name': 'English', 'iso_639_1': 'en'...</td>\n",
       "      <td>Released</td>\n",
       "      <td>Try to remember the first time magic happened</td>\n",
       "      <td>The Fantasticks</td>\n",
       "      <td>0.0</td>\n",
       "      <td>5.50</td>\n",
       "      <td>22.0</td>\n",
       "      <td>NaN</td>\n",
       "      <td>Long</td>\n",
       "    </tr>\n",
       "    <tr>\n",
       "      <th>2</th>\n",
       "      <td>tt0113092</td>\n",
       "      <td>0.0</td>\n",
       "      <td>NaN</td>\n",
       "      <td>NaN</td>\n",
       "      <td>0.0</td>\n",
       "      <td>[{'id': 878, 'name': 'Science Fiction'}]</td>\n",
       "      <td>NaN</td>\n",
       "      <td>110977.0</td>\n",
       "      <td>en</td>\n",
       "      <td>For the Cause</td>\n",
       "      <td>Earth is in a state of constant war and two co...</td>\n",
       "      <td>1.761</td>\n",
       "      <td>/h9bWO13nWRGZJo4XVPiElXyrRMU.jpg</td>\n",
       "      <td>[{'id': 7405, 'logo_path': '/rfnws0uY8rsNAsrLb...</td>\n",
       "      <td>[{'iso_3166_1': 'US', 'name': 'United States o...</td>\n",
       "      <td>2000-11-15</td>\n",
       "      <td>0.0</td>\n",
       "      <td>100.0</td>\n",
       "      <td>[{'english_name': 'English', 'iso_639_1': 'en'...</td>\n",
       "      <td>Released</td>\n",
       "      <td>The ultimate showdown on a forbidden planet.</td>\n",
       "      <td>For the Cause</td>\n",
       "      <td>0.0</td>\n",
       "      <td>5.45</td>\n",
       "      <td>10.0</td>\n",
       "      <td>NaN</td>\n",
       "      <td>Short</td>\n",
       "    </tr>\n",
       "    <tr>\n",
       "      <th>3</th>\n",
       "      <td>tt0116391</td>\n",
       "      <td>0.0</td>\n",
       "      <td>NaN</td>\n",
       "      <td>NaN</td>\n",
       "      <td>0.0</td>\n",
       "      <td>[{'id': 18, 'name': 'Drama'}, {'id': 28, 'name...</td>\n",
       "      <td>NaN</td>\n",
       "      <td>442869.0</td>\n",
       "      <td>hi</td>\n",
       "      <td>Gang</td>\n",
       "      <td>After falling prey to underworld, four friends...</td>\n",
       "      <td>0.665</td>\n",
       "      <td>/yB5wRu4uyXXwZA3PEj8cITu0xt3.jpg</td>\n",
       "      <td>[]</td>\n",
       "      <td>[{'iso_3166_1': 'IN', 'name': 'India'}]</td>\n",
       "      <td>2000-04-14</td>\n",
       "      <td>0.0</td>\n",
       "      <td>152.0</td>\n",
       "      <td>[{'english_name': 'Hindi', 'iso_639_1': 'hi', ...</td>\n",
       "      <td>Released</td>\n",
       "      <td>NaN</td>\n",
       "      <td>Gang</td>\n",
       "      <td>0.0</td>\n",
       "      <td>4.00</td>\n",
       "      <td>1.0</td>\n",
       "      <td>NaN</td>\n",
       "      <td>Long</td>\n",
       "    </tr>\n",
       "    <tr>\n",
       "      <th>4</th>\n",
       "      <td>tt0118694</td>\n",
       "      <td>0.0</td>\n",
       "      <td>/n4GJFGzsc7NinI1VeGDXIcQjtU2.jpg</td>\n",
       "      <td>NaN</td>\n",
       "      <td>150000.0</td>\n",
       "      <td>[{'id': 18, 'name': 'Drama'}, {'id': 10749, 'n...</td>\n",
       "      <td>NaN</td>\n",
       "      <td>843.0</td>\n",
       "      <td>cn</td>\n",
       "      <td>花樣年華</td>\n",
       "      <td>Two neighbors become intimate after discoverin...</td>\n",
       "      <td>27.301</td>\n",
       "      <td>/iYypPT4bhqXfq1b6EnmxvRt6b2Y.jpg</td>\n",
       "      <td>[{'id': 539, 'logo_path': '/iPLtePguIzOPNtAWfT...</td>\n",
       "      <td>[{'iso_3166_1': 'FR', 'name': 'France'}, {'iso...</td>\n",
       "      <td>2000-09-29</td>\n",
       "      <td>14204632.0</td>\n",
       "      <td>99.0</td>\n",
       "      <td>[{'english_name': 'Cantonese', 'iso_639_1': 'c...</td>\n",
       "      <td>Released</td>\n",
       "      <td>Feel the heat, keep the feeling burning, let t...</td>\n",
       "      <td>In the Mood for Love</td>\n",
       "      <td>0.0</td>\n",
       "      <td>8.11</td>\n",
       "      <td>2278.0</td>\n",
       "      <td>PG</td>\n",
       "      <td>Long</td>\n",
       "    </tr>\n",
       "  </tbody>\n",
       "</table>\n",
       "</div>"
      ],
      "text/plain": [
       "     imdb_id  adult                     backdrop_path belongs_to_collection  \\\n",
       "0          0    NaN                               NaN                   NaN   \n",
       "1  tt0113026    0.0  /vMFs7nw6P0bIV1jDsQpxAieAVnH.jpg                   NaN   \n",
       "2  tt0113092    0.0                               NaN                   NaN   \n",
       "3  tt0116391    0.0                               NaN                   NaN   \n",
       "4  tt0118694    0.0  /n4GJFGzsc7NinI1VeGDXIcQjtU2.jpg                   NaN   \n",
       "\n",
       "       budget                                             genres homepage  \\\n",
       "0         NaN                                                NaN      NaN   \n",
       "1  10000000.0  [{'id': 35, 'name': 'Comedy'}, {'id': 10402, '...      NaN   \n",
       "2         0.0           [{'id': 878, 'name': 'Science Fiction'}]      NaN   \n",
       "3         0.0  [{'id': 18, 'name': 'Drama'}, {'id': 28, 'name...      NaN   \n",
       "4    150000.0  [{'id': 18, 'name': 'Drama'}, {'id': 10749, 'n...      NaN   \n",
       "\n",
       "         id original_language   original_title  \\\n",
       "0       NaN               NaN              NaN   \n",
       "1   62127.0                en  The Fantasticks   \n",
       "2  110977.0                en    For the Cause   \n",
       "3  442869.0                hi             Gang   \n",
       "4     843.0                cn             花樣年華   \n",
       "\n",
       "                                            overview  popularity  \\\n",
       "0                                                NaN         NaN   \n",
       "1  Two rural teens sing and dance their way throu...       2.065   \n",
       "2  Earth is in a state of constant war and two co...       1.761   \n",
       "3  After falling prey to underworld, four friends...       0.665   \n",
       "4  Two neighbors become intimate after discoverin...      27.301   \n",
       "\n",
       "                        poster_path  \\\n",
       "0                               NaN   \n",
       "1  /hfO64mXz3DgUxkBVU7no2UWRP7x.jpg   \n",
       "2  /h9bWO13nWRGZJo4XVPiElXyrRMU.jpg   \n",
       "3  /yB5wRu4uyXXwZA3PEj8cITu0xt3.jpg   \n",
       "4  /iYypPT4bhqXfq1b6EnmxvRt6b2Y.jpg   \n",
       "\n",
       "                                production_companies  \\\n",
       "0                                                NaN   \n",
       "1  [{'id': 51207, 'logo_path': None, 'name': 'Sul...   \n",
       "2  [{'id': 7405, 'logo_path': '/rfnws0uY8rsNAsrLb...   \n",
       "3                                                 []   \n",
       "4  [{'id': 539, 'logo_path': '/iPLtePguIzOPNtAWfT...   \n",
       "\n",
       "                                production_countries release_date     revenue  \\\n",
       "0                                                NaN          NaN         NaN   \n",
       "1  [{'iso_3166_1': 'US', 'name': 'United States o...   2000-09-22         0.0   \n",
       "2  [{'iso_3166_1': 'US', 'name': 'United States o...   2000-11-15         0.0   \n",
       "3            [{'iso_3166_1': 'IN', 'name': 'India'}]   2000-04-14         0.0   \n",
       "4  [{'iso_3166_1': 'FR', 'name': 'France'}, {'iso...   2000-09-29  14204632.0   \n",
       "\n",
       "   runtime                                   spoken_languages    status  \\\n",
       "0      NaN                                                NaN       NaN   \n",
       "1     86.0  [{'english_name': 'English', 'iso_639_1': 'en'...  Released   \n",
       "2    100.0  [{'english_name': 'English', 'iso_639_1': 'en'...  Released   \n",
       "3    152.0  [{'english_name': 'Hindi', 'iso_639_1': 'hi', ...  Released   \n",
       "4     99.0  [{'english_name': 'Cantonese', 'iso_639_1': 'c...  Released   \n",
       "\n",
       "                                             tagline                 title  \\\n",
       "0                                                NaN                   NaN   \n",
       "1      Try to remember the first time magic happened       The Fantasticks   \n",
       "2       The ultimate showdown on a forbidden planet.         For the Cause   \n",
       "3                                                NaN                  Gang   \n",
       "4  Feel the heat, keep the feeling burning, let t...  In the Mood for Love   \n",
       "\n",
       "   video  vote_average  vote_count certification duration_category  \n",
       "0    NaN           NaN         NaN           NaN               NaN  \n",
       "1    0.0          5.50        22.0           NaN              Long  \n",
       "2    0.0          5.45        10.0           NaN             Short  \n",
       "3    0.0          4.00         1.0           NaN              Long  \n",
       "4    0.0          8.11      2278.0            PG              Long  "
      ]
     },
     "execution_count": 21,
     "metadata": {},
     "output_type": "execute_result"
    }
   ],
   "source": [
    "# Create a new column 'duration_category' based on runtime\n",
    "df['duration_category'] = pd.cut(df_2001['runtime'], bins=[0, 90, float('inf')], labels=['Short', 'Long'])\n",
    "df.head()"
   ]
  },
  {
   "cell_type": "code",
   "execution_count": 23,
   "id": "9fef7600",
   "metadata": {},
   "outputs": [
    {
     "data": {
      "text/plain": [
       "Long     851\n",
       "Short    424\n",
       "Name: duration_category, dtype: int64"
      ]
     },
     "execution_count": 23,
     "metadata": {},
     "output_type": "execute_result"
    }
   ],
   "source": [
    "# see how many long and short\n",
    "df['duration_category'].value_counts()"
   ]
  },
  {
   "cell_type": "code",
   "execution_count": 24,
   "id": "6c01fab6",
   "metadata": {},
   "outputs": [],
   "source": [
    "# Filtering out those long and short\n",
    "long_df = df.loc[df['duration_category']== 'Long'].copy()\n",
    "short_df = df.loc[df['duration_category']== 'Short'].copy()"
   ]
  },
  {
   "cell_type": "code",
   "execution_count": 25,
   "id": "a6639adb",
   "metadata": {},
   "outputs": [],
   "source": [
    "long_revenue = long_df['revenue']\n",
    "short_revenue = short_df['revenue']"
   ]
  },
  {
   "cell_type": "code",
   "execution_count": 30,
   "id": "ced7f174",
   "metadata": {},
   "outputs": [
    {
     "data": {
      "image/png": "[encoded data removed]",
      "text/plain": [
       "<Figure size 640x480 with 1 Axes>"
      ]
     },
     "metadata": {},
     "output_type": "display_data"
    }
   ],
   "source": [
    "sns.barplot(data=df, x='duration_category',y='revenue');"
   ]
  },
  {
   "cell_type": "markdown",
   "id": "b1081fbf",
   "metadata": {},
   "source": [
    "## Check for and remove outliers"
   ]
  },
  {
   "cell_type": "code",
   "execution_count": 35,
   "id": "31d9e7e0",
   "metadata": {},
   "outputs": [
    {
     "data": {
      "text/plain": [
       "28"
      ]
     },
     "execution_count": 35,
     "metadata": {},
     "output_type": "execute_result"
    }
   ],
   "source": [
    "# Check for outliers in revenue for long_revenue group\n",
    "zscores= stats.zscore(long_revenue)\n",
    "outliers = abs(zscores)>3\n",
    "np.sum(outliers)"
   ]
  },
  {
   "cell_type": "code",
   "execution_count": 36,
   "id": "d4ed5751",
   "metadata": {},
   "outputs": [],
   "source": [
    "# remove outliers from long_revenue group\n",
    "long_revenue = long_revenue[(np.abs(stats.zscore(long_revenue)) < 3)]"
   ]
  },
  {
   "cell_type": "code",
   "execution_count": 37,
   "id": "0b9f6e58",
   "metadata": {},
   "outputs": [
    {
     "data": {
      "text/plain": [
       "9"
      ]
     },
     "execution_count": 37,
     "metadata": {},
     "output_type": "execute_result"
    }
   ],
   "source": [
    "# check for outliers in revenue for short_revenue group\n",
    "zscores= stats.zscore(short_revenue)\n",
    "outliers = abs(zscores)>3\n",
    "np.sum(outliers)\n"
   ]
  },
  {
   "cell_type": "code",
   "execution_count": 38,
   "id": "9128c902",
   "metadata": {},
   "outputs": [],
   "source": [
    "# remove outlier for short_revenue group\n",
    "short_revenue = short_revenue[(np.abs(stats.zscore(short_revenue)) < 3)]"
   ]
  },
  {
   "cell_type": "markdown",
   "id": "ddbbcde3",
   "metadata": {},
   "source": [
    "## Check for Normality"
   ]
  },
  {
   "cell_type": "code",
   "execution_count": 39,
   "id": "50563b2f",
   "metadata": {},
   "outputs": [
    {
     "data": {
      "text/plain": [
       "NormaltestResult(statistic=783.8473193846814, pvalue=6.161937206253078e-171)"
      ]
     },
     "execution_count": 39,
     "metadata": {},
     "output_type": "execute_result"
    }
   ],
   "source": [
    "result_long_revenue = stats.normaltest(long_revenue)\n",
    "result_long_revenue"
   ]
  },
  {
   "cell_type": "code",
   "execution_count": 40,
   "id": "e95f3cdb",
   "metadata": {},
   "outputs": [
    {
     "data": {
      "text/plain": [
       "NormaltestResult(statistic=462.1082061546072, pvalue=4.51313175557417e-101)"
      ]
     },
     "execution_count": 40,
     "metadata": {},
     "output_type": "execute_result"
    }
   ],
   "source": [
    "# test the short_revenue group for normality\n",
    "result_short_revenue = stats.normaltest(short_revenue)\n",
    "result_short_revenue"
   ]
  },
  {
   "cell_type": "markdown",
   "id": "8dd38c37",
   "metadata": {},
   "source": [
    "#### Our p-values for both groups are well ABOVE 0.05, which means our data is normally distributed. "
   ]
  },
  {
   "cell_type": "markdown",
   "id": "36b036bb",
   "metadata": {},
   "source": [
    "## Check for Equal Variance"
   ]
  },
  {
   "cell_type": "code",
   "execution_count": 41,
   "id": "1c47b5bb",
   "metadata": {},
   "outputs": [
    {
     "data": {
      "text/plain": [
       "LeveneResult(statistic=3.460222464997456, pvalue=0.06310275330210305)"
      ]
     },
     "execution_count": 41,
     "metadata": {},
     "output_type": "execute_result"
    }
   ],
   "source": [
    "# Test for equal variance\n",
    "result = stats.levene(long_revenue, short_revenue)\n",
    "result"
   ]
  },
  {
   "cell_type": "code",
   "execution_count": 42,
   "id": "ee9b31f3",
   "metadata": {},
   "outputs": [
    {
     "data": {
      "text/plain": [
       "Ttest_indResult(statistic=-1.5967369855807985, pvalue=0.11087800638969852)"
      ]
     },
     "execution_count": 42,
     "metadata": {},
     "output_type": "execute_result"
    }
   ],
   "source": [
    "# Independent t-test with equal_var set to False\n",
    "result = stats.ttest_ind(long_revenue, short_revenue, equal_var = False)\n",
    "result"
   ]
  },
  {
   "cell_type": "markdown",
   "id": "9a15dd81",
   "metadata": {},
   "source": [
    "#### Our p-value > alpha (0.05), so we FAIL reject the null hypothesis. There is NO significant difference between the revenue of movies that are long (over 2.5 hours long) and those that are short (1.5 hours long or less)"
   ]
  },
  {
   "cell_type": "markdown",
   "id": "95255aaa",
   "metadata": {},
   "source": [
    "# Do movies released in 2000 earn less revenue than movies released in 2001?"
   ]
  },
  {
   "cell_type": "code",
   "execution_count": 68,
   "id": "115b76e8",
   "metadata": {},
   "outputs": [
    {
     "name": "stderr",
     "output_type": "stream",
     "text": [
      "/var/folders/_d/vjsz0dr536z6nlzvz6jh276h0000gp/T/ipykernel_13372/1942376401.py:8: SettingWithCopyWarning: \n",
      "A value is trying to be set on a copy of a slice from a DataFrame.\n",
      "Try using .loc[row_indexer,col_indexer] = value instead\n",
      "\n",
      "See the caveats in the documentation: https://pandas.pydata.org/pandas-docs/stable/user_guide/indexing.html#returning-a-view-versus-a-copy\n",
      "  df['year'] = df['release_date'].dt.year\n",
      "/var/folders/_d/vjsz0dr536z6nlzvz6jh276h0000gp/T/ipykernel_13372/1942376401.py:9: SettingWithCopyWarning: \n",
      "A value is trying to be set on a copy of a slice from a DataFrame.\n",
      "Try using .loc[row_indexer,col_indexer] = value instead\n",
      "\n",
      "See the caveats in the documentation: https://pandas.pydata.org/pandas-docs/stable/user_guide/indexing.html#returning-a-view-versus-a-copy\n",
      "  df['year'] = df['year'].astype(float).round(0).astype(int)\n"
     ]
    },
    {
     "data": {
      "text/html": [
       "<div>\n",
       "<style scoped>\n",
       "    .dataframe tbody tr th:only-of-type {\n",
       "        vertical-align: middle;\n",
       "    }\n",
       "\n",
       "    .dataframe tbody tr th {\n",
       "        vertical-align: top;\n",
       "    }\n",
       "\n",
       "    .dataframe thead th {\n",
       "        text-align: right;\n",
       "    }\n",
       "</style>\n",
       "<table border=\"1\" class=\"dataframe\">\n",
       "  <thead>\n",
       "    <tr style=\"text-align: right;\">\n",
       "      <th></th>\n",
       "      <th>imdb_id</th>\n",
       "      <th>adult</th>\n",
       "      <th>backdrop_path</th>\n",
       "      <th>belongs_to_collection</th>\n",
       "      <th>budget</th>\n",
       "      <th>genres</th>\n",
       "      <th>homepage</th>\n",
       "      <th>id</th>\n",
       "      <th>original_language</th>\n",
       "      <th>original_title</th>\n",
       "      <th>overview</th>\n",
       "      <th>popularity</th>\n",
       "      <th>poster_path</th>\n",
       "      <th>production_companies</th>\n",
       "      <th>production_countries</th>\n",
       "      <th>release_date</th>\n",
       "      <th>revenue</th>\n",
       "      <th>runtime</th>\n",
       "      <th>spoken_languages</th>\n",
       "      <th>status</th>\n",
       "      <th>tagline</th>\n",
       "      <th>title</th>\n",
       "      <th>video</th>\n",
       "      <th>vote_average</th>\n",
       "      <th>vote_count</th>\n",
       "      <th>certification</th>\n",
       "      <th>duration_category</th>\n",
       "      <th>year</th>\n",
       "    </tr>\n",
       "  </thead>\n",
       "  <tbody>\n",
       "    <tr>\n",
       "      <th>1</th>\n",
       "      <td>tt0113026</td>\n",
       "      <td>0.0</td>\n",
       "      <td>/vMFs7nw6P0bIV1jDsQpxAieAVnH.jpg</td>\n",
       "      <td>NaN</td>\n",
       "      <td>10000000.0</td>\n",
       "      <td>[{'id': 35, 'name': 'Comedy'}, {'id': 10402, '...</td>\n",
       "      <td>NaN</td>\n",
       "      <td>62127.0</td>\n",
       "      <td>en</td>\n",
       "      <td>The Fantasticks</td>\n",
       "      <td>Two rural teens sing and dance their way throu...</td>\n",
       "      <td>2.065</td>\n",
       "      <td>/hfO64mXz3DgUxkBVU7no2UWRP7x.jpg</td>\n",
       "      <td>[{'id': 51207, 'logo_path': None, 'name': 'Sul...</td>\n",
       "      <td>[{'iso_3166_1': 'US', 'name': 'United States o...</td>\n",
       "      <td>2000-09-22</td>\n",
       "      <td>0.0</td>\n",
       "      <td>86.0</td>\n",
       "      <td>[{'english_name': 'English', 'iso_639_1': 'en'...</td>\n",
       "      <td>Released</td>\n",
       "      <td>Try to remember the first time magic happened</td>\n",
       "      <td>The Fantasticks</td>\n",
       "      <td>0.0</td>\n",
       "      <td>5.500</td>\n",
       "      <td>22.0</td>\n",
       "      <td>NaN</td>\n",
       "      <td>Long</td>\n",
       "      <td>2000</td>\n",
       "    </tr>\n",
       "    <tr>\n",
       "      <th>2</th>\n",
       "      <td>tt0113092</td>\n",
       "      <td>0.0</td>\n",
       "      <td>NaN</td>\n",
       "      <td>NaN</td>\n",
       "      <td>0.0</td>\n",
       "      <td>[{'id': 878, 'name': 'Science Fiction'}]</td>\n",
       "      <td>NaN</td>\n",
       "      <td>110977.0</td>\n",
       "      <td>en</td>\n",
       "      <td>For the Cause</td>\n",
       "      <td>Earth is in a state of constant war and two co...</td>\n",
       "      <td>1.761</td>\n",
       "      <td>/h9bWO13nWRGZJo4XVPiElXyrRMU.jpg</td>\n",
       "      <td>[{'id': 7405, 'logo_path': '/rfnws0uY8rsNAsrLb...</td>\n",
       "      <td>[{'iso_3166_1': 'US', 'name': 'United States o...</td>\n",
       "      <td>2000-11-15</td>\n",
       "      <td>0.0</td>\n",
       "      <td>100.0</td>\n",
       "      <td>[{'english_name': 'English', 'iso_639_1': 'en'...</td>\n",
       "      <td>Released</td>\n",
       "      <td>The ultimate showdown on a forbidden planet.</td>\n",
       "      <td>For the Cause</td>\n",
       "      <td>0.0</td>\n",
       "      <td>5.450</td>\n",
       "      <td>10.0</td>\n",
       "      <td>NaN</td>\n",
       "      <td>Short</td>\n",
       "      <td>2000</td>\n",
       "    </tr>\n",
       "    <tr>\n",
       "      <th>3</th>\n",
       "      <td>tt0116391</td>\n",
       "      <td>0.0</td>\n",
       "      <td>NaN</td>\n",
       "      <td>NaN</td>\n",
       "      <td>0.0</td>\n",
       "      <td>[{'id': 18, 'name': 'Drama'}, {'id': 28, 'name...</td>\n",
       "      <td>NaN</td>\n",
       "      <td>442869.0</td>\n",
       "      <td>hi</td>\n",
       "      <td>Gang</td>\n",
       "      <td>After falling prey to underworld, four friends...</td>\n",
       "      <td>0.665</td>\n",
       "      <td>/yB5wRu4uyXXwZA3PEj8cITu0xt3.jpg</td>\n",
       "      <td>[]</td>\n",
       "      <td>[{'iso_3166_1': 'IN', 'name': 'India'}]</td>\n",
       "      <td>2000-04-14</td>\n",
       "      <td>0.0</td>\n",
       "      <td>152.0</td>\n",
       "      <td>[{'english_name': 'Hindi', 'iso_639_1': 'hi', ...</td>\n",
       "      <td>Released</td>\n",
       "      <td>NaN</td>\n",
       "      <td>Gang</td>\n",
       "      <td>0.0</td>\n",
       "      <td>4.000</td>\n",
       "      <td>1.0</td>\n",
       "      <td>NaN</td>\n",
       "      <td>Long</td>\n",
       "      <td>2000</td>\n",
       "    </tr>\n",
       "    <tr>\n",
       "      <th>4</th>\n",
       "      <td>tt0118694</td>\n",
       "      <td>0.0</td>\n",
       "      <td>/n4GJFGzsc7NinI1VeGDXIcQjtU2.jpg</td>\n",
       "      <td>NaN</td>\n",
       "      <td>150000.0</td>\n",
       "      <td>[{'id': 18, 'name': 'Drama'}, {'id': 10749, 'n...</td>\n",
       "      <td>NaN</td>\n",
       "      <td>843.0</td>\n",
       "      <td>cn</td>\n",
       "      <td>花樣年華</td>\n",
       "      <td>Two neighbors become intimate after discoverin...</td>\n",
       "      <td>27.301</td>\n",
       "      <td>/iYypPT4bhqXfq1b6EnmxvRt6b2Y.jpg</td>\n",
       "      <td>[{'id': 539, 'logo_path': '/iPLtePguIzOPNtAWfT...</td>\n",
       "      <td>[{'iso_3166_1': 'FR', 'name': 'France'}, {'iso...</td>\n",
       "      <td>2000-09-29</td>\n",
       "      <td>14204632.0</td>\n",
       "      <td>99.0</td>\n",
       "      <td>[{'english_name': 'Cantonese', 'iso_639_1': 'c...</td>\n",
       "      <td>Released</td>\n",
       "      <td>Feel the heat, keep the feeling burning, let t...</td>\n",
       "      <td>In the Mood for Love</td>\n",
       "      <td>0.0</td>\n",
       "      <td>8.110</td>\n",
       "      <td>2278.0</td>\n",
       "      <td>PG</td>\n",
       "      <td>Long</td>\n",
       "      <td>2000</td>\n",
       "    </tr>\n",
       "    <tr>\n",
       "      <th>5</th>\n",
       "      <td>tt0118852</td>\n",
       "      <td>0.0</td>\n",
       "      <td>/vceiGZ3uavAEHlTA7v0GjQsGVKe.jpg</td>\n",
       "      <td>NaN</td>\n",
       "      <td>0.0</td>\n",
       "      <td>[{'id': 18, 'name': 'Drama'}]</td>\n",
       "      <td>NaN</td>\n",
       "      <td>49511.0</td>\n",
       "      <td>en</td>\n",
       "      <td>Chinese Coffee</td>\n",
       "      <td>When Harry Levine, an aging, unsuccessful Gree...</td>\n",
       "      <td>3.408</td>\n",
       "      <td>/nZGWnSuf1FIuzyEuMRZHHZWViAp.jpg</td>\n",
       "      <td>[{'id': 67930, 'logo_path': None, 'name': 'Cha...</td>\n",
       "      <td>[{'iso_3166_1': 'US', 'name': 'United States o...</td>\n",
       "      <td>2000-09-02</td>\n",
       "      <td>0.0</td>\n",
       "      <td>99.0</td>\n",
       "      <td>[{'english_name': 'English', 'iso_639_1': 'en'...</td>\n",
       "      <td>Released</td>\n",
       "      <td>There's a fine line between friendship and bet...</td>\n",
       "      <td>Chinese Coffee</td>\n",
       "      <td>0.0</td>\n",
       "      <td>6.642</td>\n",
       "      <td>53.0</td>\n",
       "      <td>R</td>\n",
       "      <td>Long</td>\n",
       "      <td>2000</td>\n",
       "    </tr>\n",
       "  </tbody>\n",
       "</table>\n",
       "</div>"
      ],
      "text/plain": [
       "     imdb_id  adult                     backdrop_path belongs_to_collection  \\\n",
       "1  tt0113026    0.0  /vMFs7nw6P0bIV1jDsQpxAieAVnH.jpg                   NaN   \n",
       "2  tt0113092    0.0                               NaN                   NaN   \n",
       "3  tt0116391    0.0                               NaN                   NaN   \n",
       "4  tt0118694    0.0  /n4GJFGzsc7NinI1VeGDXIcQjtU2.jpg                   NaN   \n",
       "5  tt0118852    0.0  /vceiGZ3uavAEHlTA7v0GjQsGVKe.jpg                   NaN   \n",
       "\n",
       "       budget                                             genres homepage  \\\n",
       "1  10000000.0  [{'id': 35, 'name': 'Comedy'}, {'id': 10402, '...      NaN   \n",
       "2         0.0           [{'id': 878, 'name': 'Science Fiction'}]      NaN   \n",
       "3         0.0  [{'id': 18, 'name': 'Drama'}, {'id': 28, 'name...      NaN   \n",
       "4    150000.0  [{'id': 18, 'name': 'Drama'}, {'id': 10749, 'n...      NaN   \n",
       "5         0.0                      [{'id': 18, 'name': 'Drama'}]      NaN   \n",
       "\n",
       "         id original_language   original_title  \\\n",
       "1   62127.0                en  The Fantasticks   \n",
       "2  110977.0                en    For the Cause   \n",
       "3  442869.0                hi             Gang   \n",
       "4     843.0                cn             花樣年華   \n",
       "5   49511.0                en   Chinese Coffee   \n",
       "\n",
       "                                            overview  popularity  \\\n",
       "1  Two rural teens sing and dance their way throu...       2.065   \n",
       "2  Earth is in a state of constant war and two co...       1.761   \n",
       "3  After falling prey to underworld, four friends...       0.665   \n",
       "4  Two neighbors become intimate after discoverin...      27.301   \n",
       "5  When Harry Levine, an aging, unsuccessful Gree...       3.408   \n",
       "\n",
       "                        poster_path  \\\n",
       "1  /hfO64mXz3DgUxkBVU7no2UWRP7x.jpg   \n",
       "2  /h9bWO13nWRGZJo4XVPiElXyrRMU.jpg   \n",
       "3  /yB5wRu4uyXXwZA3PEj8cITu0xt3.jpg   \n",
       "4  /iYypPT4bhqXfq1b6EnmxvRt6b2Y.jpg   \n",
       "5  /nZGWnSuf1FIuzyEuMRZHHZWViAp.jpg   \n",
       "\n",
       "                                production_companies  \\\n",
       "1  [{'id': 51207, 'logo_path': None, 'name': 'Sul...   \n",
       "2  [{'id': 7405, 'logo_path': '/rfnws0uY8rsNAsrLb...   \n",
       "3                                                 []   \n",
       "4  [{'id': 539, 'logo_path': '/iPLtePguIzOPNtAWfT...   \n",
       "5  [{'id': 67930, 'logo_path': None, 'name': 'Cha...   \n",
       "\n",
       "                                production_countries release_date     revenue  \\\n",
       "1  [{'iso_3166_1': 'US', 'name': 'United States o...   2000-09-22         0.0   \n",
       "2  [{'iso_3166_1': 'US', 'name': 'United States o...   2000-11-15         0.0   \n",
       "3            [{'iso_3166_1': 'IN', 'name': 'India'}]   2000-04-14         0.0   \n",
       "4  [{'iso_3166_1': 'FR', 'name': 'France'}, {'iso...   2000-09-29  14204632.0   \n",
       "5  [{'iso_3166_1': 'US', 'name': 'United States o...   2000-09-02         0.0   \n",
       "\n",
       "   runtime                                   spoken_languages    status  \\\n",
       "1     86.0  [{'english_name': 'English', 'iso_639_1': 'en'...  Released   \n",
       "2    100.0  [{'english_name': 'English', 'iso_639_1': 'en'...  Released   \n",
       "3    152.0  [{'english_name': 'Hindi', 'iso_639_1': 'hi', ...  Released   \n",
       "4     99.0  [{'english_name': 'Cantonese', 'iso_639_1': 'c...  Released   \n",
       "5     99.0  [{'english_name': 'English', 'iso_639_1': 'en'...  Released   \n",
       "\n",
       "                                             tagline                 title  \\\n",
       "1      Try to remember the first time magic happened       The Fantasticks   \n",
       "2       The ultimate showdown on a forbidden planet.         For the Cause   \n",
       "3                                                NaN                  Gang   \n",
       "4  Feel the heat, keep the feeling burning, let t...  In the Mood for Love   \n",
       "5  There's a fine line between friendship and bet...        Chinese Coffee   \n",
       "\n",
       "   video  vote_average  vote_count certification duration_category  year  \n",
       "1    0.0         5.500        22.0           NaN              Long  2000  \n",
       "2    0.0         5.450        10.0           NaN             Short  2000  \n",
       "3    0.0         4.000         1.0           NaN              Long  2000  \n",
       "4    0.0         8.110      2278.0            PG              Long  2000  \n",
       "5    0.0         6.642        53.0             R              Long  2000  "
      ]
     },
     "execution_count": 68,
     "metadata": {},
     "output_type": "execute_result"
    }
   ],
   "source": [
    "# Convert 'release_date' column to datetime\n",
    "df['release_date'] = pd.to_datetime(df['release_date'], errors='coerce')\n",
    "\n",
    "# Filter out rows with missing or invalid 'release_date'\n",
    "df = df.dropna(subset=['release_date'])\n",
    "\n",
    "# Extract year from 'release_date' and create the 'year' column\n",
    "df['year'] = df['release_date'].dt.year\n",
    "df['year'] = df['year'].astype(float).round(0).astype(int)\n",
    "df.head()"
   ]
  },
  {
   "cell_type": "code",
   "execution_count": 69,
   "id": "3e389827",
   "metadata": {},
   "outputs": [],
   "source": [
    "# Create a new column 'duration_category' based on runtime\n",
    "#df['duration_category'] = pd.cut(df_2001['runtime'], bins=[0, 90, float('inf')], labels=['Short', 'Long'])\n",
    "\n",
    "# Calculate average revenue for movies released in 2000\n",
    "revenue_2000 = df[df['year'] == 2000]['revenue'].mean()\n",
    "\n",
    "# Calculate average revenue for movies released in 2001\n",
    "revenue_2001 = df[df['year'] == 2001]['revenue'].mean()"
   ]
  },
  {
   "cell_type": "code",
   "execution_count": 70,
   "id": "a8d9a6e2",
   "metadata": {},
   "outputs": [
    {
     "data": {
      "text/plain": [
       "2001    1291\n",
       "2000    1140\n",
       "2002      82\n",
       "1999      17\n",
       "2003      12\n",
       "1998       5\n",
       "2005       5\n",
       "2004       5\n",
       "1997       3\n",
       "1996       3\n",
       "2021       2\n",
       "1989       1\n",
       "2007       1\n",
       "2006       1\n",
       "Name: year, dtype: int64"
      ]
     },
     "execution_count": 70,
     "metadata": {},
     "output_type": "execute_result"
    }
   ],
   "source": [
    "# see how many long and short\n",
    "df['year'].value_counts()"
   ]
  },
  {
   "cell_type": "code",
   "execution_count": 71,
   "id": "685980d0",
   "metadata": {},
   "outputs": [],
   "source": [
    "# Filtering out those long and short\n",
    "df_2000 = df.loc[df['year']== 2000].copy()\n",
    "df_2001 = df.loc[df['year']== 2001].copy()"
   ]
  },
  {
   "cell_type": "code",
   "execution_count": 72,
   "id": "aae4cea8",
   "metadata": {},
   "outputs": [],
   "source": [
    "revenue_2000 = df_2000['revenue']\n",
    "revenue_2001 = df_2001['revenue']"
   ]
  },
  {
   "cell_type": "code",
   "execution_count": 73,
   "id": "35056db2",
   "metadata": {},
   "outputs": [
    {
     "data": {
      "image/png": "[encoded data removed]",
      "text/plain": [
       "<Figure size 800x600 with 1 Axes>"
      ]
     },
     "metadata": {},
     "output_type": "display_data"
    }
   ],
   "source": [
    "#sns.barplot(data=df, x='year',y='revenue');\n",
    "\n",
    "# Filter rows with year equal to 2000 or 2001\n",
    "filtered_df = df[df['year'].isin([2000, 2001])]\n",
    "\n",
    "# Create a bar plot using Seaborn\n",
    "plt.figure(figsize=(8, 6))\n",
    "sns.barplot(data=filtered_df, x='year', y='revenue')\n",
    "plt.title('Revenue Comparison for Years 2000 and 2001')\n",
    "plt.xlabel('Year')\n",
    "plt.ylabel('Revenue')\n",
    "plt.show()"
   ]
  },
  {
   "cell_type": "markdown",
   "id": "72540b3b",
   "metadata": {},
   "source": [
    "## Check for and remove outliers"
   ]
  },
  {
   "cell_type": "code",
   "execution_count": 74,
   "id": "a2e77912",
   "metadata": {},
   "outputs": [
    {
     "data": {
      "text/plain": [
       "27"
      ]
     },
     "execution_count": 74,
     "metadata": {},
     "output_type": "execute_result"
    }
   ],
   "source": [
    "# Check for outliers in revenue for long_revenue group\n",
    "zscores= stats.zscore(revenue_2000)\n",
    "outliers = abs(zscores)>3\n",
    "np.sum(outliers)"
   ]
  },
  {
   "cell_type": "code",
   "execution_count": 75,
   "id": "6a414aef",
   "metadata": {},
   "outputs": [],
   "source": [
    "# remove outliers from long_revenue group\n",
    "revenue_2000 = revenue_2000[(np.abs(stats.zscore(revenue_2000)) < 3)]"
   ]
  },
  {
   "cell_type": "code",
   "execution_count": 76,
   "id": "d5eeb093",
   "metadata": {},
   "outputs": [
    {
     "data": {
      "text/plain": [
       "20"
      ]
     },
     "execution_count": 76,
     "metadata": {},
     "output_type": "execute_result"
    }
   ],
   "source": [
    "# check for outliers in revenue for short_revenue group\n",
    "zscores= stats.zscore(revenue_2001)\n",
    "outliers = abs(zscores)>3\n",
    "np.sum(outliers)\n"
   ]
  },
  {
   "cell_type": "code",
   "execution_count": 77,
   "id": "aab0c7b4",
   "metadata": {},
   "outputs": [],
   "source": [
    "# remove outlier for short_revenue group\n",
    "revenue_2001 = revenue_2001[(np.abs(stats.zscore(revenue_2001)) < 3)]"
   ]
  },
  {
   "cell_type": "markdown",
   "id": "0eeb4596",
   "metadata": {},
   "source": [
    "## Check for Normality"
   ]
  },
  {
   "cell_type": "code",
   "execution_count": 78,
   "id": "7ce8e055",
   "metadata": {},
   "outputs": [
    {
     "data": {
      "text/plain": [
       "NormaltestResult(statistic=1092.7498907117401, pvalue=5.156751240797906e-238)"
      ]
     },
     "execution_count": 78,
     "metadata": {},
     "output_type": "execute_result"
    }
   ],
   "source": [
    "result_revenue_2000 = stats.normaltest(revenue_2000)\n",
    "result_revenue_2000"
   ]
  },
  {
   "cell_type": "code",
   "execution_count": 79,
   "id": "6542e109",
   "metadata": {},
   "outputs": [
    {
     "data": {
      "text/plain": [
       "NormaltestResult(statistic=1283.2715638245218, pvalue=2.1934135590570982e-279)"
      ]
     },
     "execution_count": 79,
     "metadata": {},
     "output_type": "execute_result"
    }
   ],
   "source": [
    "# test the short_revenue group for normality\n",
    "result_revenue_2001 = stats.normaltest(revenue_2001)\n",
    "result_revenue_2001"
   ]
  },
  {
   "cell_type": "markdown",
   "id": "174081f2",
   "metadata": {},
   "source": [
    "#### Our p-values for both groups are well ABOVE 0.05, which means our data is normally distributed. "
   ]
  },
  {
   "cell_type": "markdown",
   "id": "f2b3a4cd",
   "metadata": {},
   "source": [
    "## Check for Equal Variance"
   ]
  },
  {
   "cell_type": "code",
   "execution_count": 80,
   "id": "f94c3c56",
   "metadata": {},
   "outputs": [
    {
     "data": {
      "text/plain": [
       "LeveneResult(statistic=1.436755387506609, pvalue=0.23078434711164933)"
      ]
     },
     "execution_count": 80,
     "metadata": {},
     "output_type": "execute_result"
    }
   ],
   "source": [
    "# Test for equal variance\n",
    "result = stats.levene(revenue_2000, revenue_2001)\n",
    "result"
   ]
  },
  {
   "cell_type": "code",
   "execution_count": 81,
   "id": "832e0c9e",
   "metadata": {},
   "outputs": [
    {
     "data": {
      "text/plain": [
       "Ttest_indResult(statistic=-1.2133558907531738, pvalue=0.22511442220533376)"
      ]
     },
     "execution_count": 81,
     "metadata": {},
     "output_type": "execute_result"
    }
   ],
   "source": [
    "# Independent t-test with equal_var set to False\n",
    "result = stats.ttest_ind(revenue_2000, revenue_2001, equal_var = False)\n",
    "result"
   ]
  },
  {
   "cell_type": "markdown",
   "id": "a9dfd71d",
   "metadata": {},
   "source": [
    "#### Our p-value > alpha (0.05), so we FAIL reject the null hypothesis. There is NO significant difference between the revenue of movies that are long (over 2.5 hours long) and those that are short (1.5 hours long or less)"
   ]
  }
 ],
 "metadata": {
  "kernelspec": {
   "display_name": "Python (dojo-env)",
   "language": "python",
   "name": "dojo-env"
  },
  "language_info": {
   "codemirror_mode": {
    "name": "ipython",
    "version": 3
   },
   "file_extension": ".py",
   "mimetype": "text/x-python",
   "name": "python",
   "nbconvert_exporter": "python",
   "pygments_lexer": "ipython3",
   "version": "3.9.15"
  },
  "toc": {
   "base_numbering": 1,
   "nav_menu": {},
   "number_sections": false,
   "sideBar": true,
   "skip_h1_title": false,
   "title_cell": "Table of Contents",
   "title_sidebar": "Contents",
   "toc_cell": false,
   "toc_position": {},
   "toc_section_display": true,
   "toc_window_display": false
  }
 },
 "nbformat": 4,
 "nbformat_minor": 5
}

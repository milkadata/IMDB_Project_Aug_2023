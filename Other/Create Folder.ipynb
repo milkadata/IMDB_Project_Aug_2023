{
 "cells": [
  {
   "cell_type": "code",
   "execution_count": 1,
   "id": "b8877b6c",
   "metadata": {},
   "outputs": [
    {
     "data": {
      "text/plain": [
       "[]"
      ]
     },
     "execution_count": 1,
     "metadata": {},
     "output_type": "execute_result"
    }
   ],
   "source": [
    "# example making new folder with os\n",
    "import os\n",
    "os.makedirs('Data/',exist_ok=True) # Confirm folder created\n",
    "os.listdir(\"Data/\")\n"
   ]
  },
  {
   "cell_type": "code",
   "execution_count": 3,
   "id": "654ce89f",
   "metadata": {},
   "outputs": [],
   "source": [
    "import pandas as pd\n",
    "\n",
    "# Load the data from the two CSV files\n",
    "akas = '/Users/milkasantana/Documents/GitHub/IMDB_Project/Data/title_akas.csv.gz'\n",
    "basics = '/Users/milkasantana/Documents/GitHub/IMDB_Project/Data/title_basics.csv.gz'\n",
    "ratings = '/Users/milkasantana/Documents/GitHub/IMDB_Project/Data/title_ratings.csv.gz'\n",
    "\n",
    "df_akas = pd.read_csv(akas, compression='gzip')\n",
    "df_basics = pd.read_csv(basics, compression='gzip')\n",
    "df_ratings = pd.read_csv(ratings, compression='gzip')\n",
    "\n",
    "# Concatenate the dataframes\n",
    "combined_df = pd.concat([df_akas, df_basics, df_ratings], ignore_index=True)\n",
    "\n",
    "# Save the merged dataframe to a new CSV file\n",
    "output_file_path = '/Users/milkasantana/Documents/GitHub/IMDB_Project/Data/tmdb_results_combined.csv.gz'\n",
    "combined_df.to_csv(output_file_path, compression='gzip', index=False)"
   ]
  },
  {
   "cell_type": "code",
   "execution_count": null,
   "id": "4262bc52",
   "metadata": {},
   "outputs": [],
   "source": []
  }
 ],
 "metadata": {
  "kernelspec": {
   "display_name": "Python (dojo-env)",
   "language": "python",
   "name": "dojo-env"
  },
  "language_info": {
   "codemirror_mode": {
    "name": "ipython",
    "version": 3
   },
   "file_extension": ".py",
   "mimetype": "text/x-python",
   "name": "python",
   "nbconvert_exporter": "python",
   "pygments_lexer": "ipython3",
   "version": "3.9.15"
  },
  "toc": {
   "base_numbering": 1,
   "nav_menu": {},
   "number_sections": false,
   "sideBar": true,
   "skip_h1_title": false,
   "title_cell": "Table of Contents",
   "title_sidebar": "Contents",
   "toc_cell": false,
   "toc_position": {},
   "toc_section_display": true,
   "toc_window_display": false
  }
 },
 "nbformat": 4,
 "nbformat_minor": 5
}
